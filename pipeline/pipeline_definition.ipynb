{
 "cells": [
  {
   "cell_type": "raw",
   "id": "9659e76e-59d8-45b7-b44d-6126100e01e5",
   "metadata": {
    "execution": {
     "iopub.execute_input": "2025-07-02T06:42:29.522076Z",
     "iopub.status.busy": "2025-07-02T06:42:29.521445Z",
     "iopub.status.idle": "2025-07-02T06:42:31.121258Z",
     "shell.execute_reply": "2025-07-02T06:42:31.120443Z",
     "shell.execute_reply.started": "2025-07-02T06:42:29.522050Z"
    }
   },
   "source": [
    "import sagemaker\n",
    "from sagemaker.workflow.pipeline import Pipeline\n",
    "from sagemaker.workflow.steps import ProcessingStep, TrainingStep\n",
    "from sagemaker.workflow.parameters import ParameterString, ParameterInteger\n",
    "from sagemaker.sklearn.processing import SKLearnProcessor\n",
    "from sagemaker.inputs import TrainingInput\n",
    "from sagemaker.estimator import Estimator"
   ]
  },
  {
   "cell_type": "code",
   "execution_count": null,
   "id": "14e0f560-ba9c-4438-8a3c-4219f62816a6",
   "metadata": {},
   "outputs": [],
   "source": [
    "# Initialize SageMaker session and role\n",
    "sagemaker_session = sagemaker.session.Session()\n",
    "role = sagemaker.get_execution_role()"
   ]
  },
  {
   "cell_type": "code",
   "execution_count": null,
   "id": "4e2698d7-8e4a-4f6f-b6e1-297f6591fbda",
   "metadata": {},
   "outputs": [],
   "source": [
    "# Pipeline parameters\n",
    "input_data = ParameterString(name=\"InputDataUrl\", default_value=\"s3://mlops-testing-bucket-kulsin/sample-data.csv\")\n",
    "processing_instance_count = ParameterInteger(name=\"ProcessingInstanceCount\", default_value=1)\n",
    "training_instance_count = ParameterInteger(name=\"TrainingInstanceCount\", default_value=1)"
   ]
  },
  {
   "cell_type": "code",
   "execution_count": null,
   "id": "d6123a99-b3db-46e1-b390-d84e24e9ee07",
   "metadata": {},
   "outputs": [],
   "source": [
    "# Define sklearn processor\n",
    "sklearn_processor = SKLearnProcessor(\n",
    "    framework_version=\"0.23-1\",\n",
    "    role=role,\n",
    "    instance_type=\"ml.m5.large\",\n",
    "    instance_count=processing_instance_count\n",
    ")\n",
    "\n",
    "# Define processing step\n",
    "step_process = ProcessingStep(\n",
    "    name=\"SampleProcessing\",\n",
    "    processor=sklearn_processor,\n",
    "    inputs=[\n",
    "        sagemaker.processing.ProcessingInput(\n",
    "            source=input_data,\n",
    "            destination=\"/opt/ml/processing/input\"\n",
    "        )\n",
    "    ],\n",
    "    outputs=[\n",
    "        sagemaker.processing.ProcessingOutput(\n",
    "            output_name=\"train\",\n",
    "            source=\"/opt/ml/processing/output/train\"\n",
    "        ),\n",
    "        sagemaker.processing.ProcessingOutput(\n",
    "            output_name=\"validation\",\n",
    "            source=\"/opt/ml/processing/output/validation\"\n",
    "        )\n",
    "    ],\n",
    "    code=\"processing_script.py\"  # This script should exist in your directory\n",
    ")\n"
   ]
  },
  {
   "cell_type": "code",
   "execution_count": null,
   "id": "ea589ecf-8100-476b-8926-adbcb5c0887d",
   "metadata": {},
   "outputs": [],
   "source": [
    "# Define XGBoost estimator\n",
    "xgboost_estimator = Estimator(\n",
    "    image_uri=sagemaker.image_uris.retrieve(\"xgboost\", sagemaker_session.boto_region_name, version=\"1.2-1\"),\n",
    "    role=role,\n",
    "    instance_count=training_instance_count,\n",
    "    instance_type=\"ml.m5.large\",\n",
    "    output_path=f\"s3://{sagemaker_session.default_bucket()}/output\",\n",
    "    hyperparameters={\n",
    "        \"objective\": \"binary:logistic\",\n",
    "        \"num_round\": 100,\n",
    "        \"max_depth\": 5,\n",
    "        \"eta\": 0.2,\n",
    "        \"eval_metric\": \"error\"\n",
    "    }\n",
    ")\n",
    "\n",
    "# Define training step\n",
    "step_train = TrainingStep(\n",
    "    name=\"SampleTraining\",\n",
    "    estimator=xgboost_estimator,\n",
    "    inputs={\n",
    "        \"train\": TrainingInput(\n",
    "            s3_data=step_process.properties.ProcessingOutputConfig.Outputs[\"train\"].S3Output.S3Uri,\n",
    "            content_type=\"csv\"\n",
    "        ),\n",
    "        \"validation\": TrainingInput(\n",
    "            s3_data=step_process.properties.ProcessingOutputConfig.Outputs[\"validation\"].S3Output.S3Uri,\n",
    "            content_type=\"csv\"\n",
    "        )\n",
    "    }\n",
    ")"
   ]
  },
  {
   "cell_type": "code",
   "execution_count": null,
   "id": "527c3c0c-3d0d-4d70-b889-b1706605d402",
   "metadata": {},
   "outputs": [],
   "source": [
    "# Create the pipeline\n",
    "pipeline = Pipeline(\n",
    "    name=\"SampleDataAnalysisPipeline\",\n",
    "    parameters=[input_data, processing_instance_count, training_instance_count],\n",
    "    steps=[step_process, step_train],\n",
    "    sagemaker_session=sagemaker_session\n",
    ")\n",
    "\n",
    "# Create or update pipeline\n",
    "pipeline.upsert(role_arn=role)\n",
    "\n",
    "# Execute pipeline (you can remove this from notebook if running only definition from CI/CD)\n",
    "execution = pipeline.start(parameters={\"InputDataUrl\": \"s3://mlops-testing-bucket-kulsin/sample-data.csv\"})\n",
    "print(f\"Pipeline execution ARN: {execution.arn}\")"
   ]
  }
 ],
 "metadata": {
  "kernelspec": {
   "display_name": "Python 3 (ipykernel)",
   "language": "python",
   "name": "python3"
  },
  "language_info": {
   "codemirror_mode": {
    "name": "ipython",
    "version": 3
   },
   "file_extension": ".py",
   "mimetype": "text/x-python",
   "name": "python",
   "nbconvert_exporter": "python",
   "pygments_lexer": "ipython3",
   "version": "3.12.9"
  }
 },
 "nbformat": 4,
 "nbformat_minor": 5
}
