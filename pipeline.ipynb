{
 "cells": [
  {
   "cell_type": "code",
   "execution_count": 1,
   "id": "03bf7968-fba8-4c81-baa1-6b3cd663b9b8",
   "metadata": {
    "execution": {
     "iopub.execute_input": "2025-07-02T06:11:02.092214Z",
     "iopub.status.busy": "2025-07-02T06:11:02.060132Z",
     "iopub.status.idle": "2025-07-02T06:11:06.788540Z",
     "shell.execute_reply": "2025-07-02T06:11:06.787667Z",
     "shell.execute_reply.started": "2025-07-02T06:11:02.092159Z"
    }
   },
   "outputs": [
    {
     "name": "stdout",
     "output_type": "stream",
     "text": [
      "sagemaker.config INFO - Not applying SDK defaults from location: /etc/xdg/sagemaker/config.yaml\n",
      "sagemaker.config INFO - Not applying SDK defaults from location: /home/sagemaker-user/.config/sagemaker/config.yaml\n"
     ]
    },
    {
     "name": "stderr",
     "output_type": "stream",
     "text": [
      "INFO:sagemaker.image_uris:Defaulting to only available Python version: py3\n",
      "INFO:sagemaker.image_uris:Ignoring unnecessary instance type: None.\n",
      "WARNING:sagemaker.workflow.utilities:Popping out 'ProcessingJobName' from the pipeline definition by default since it will be overridden at pipeline execution time. Please utilize the PipelineDefinitionConfig to persist this field in the pipeline definition if desired.\n",
      "WARNING:sagemaker.workflow.utilities:Popping out 'TrainingJobName' from the pipeline definition by default since it will be overridden at pipeline execution time. Please utilize the PipelineDefinitionConfig to persist this field in the pipeline definition if desired.\n"
     ]
    },
    {
     "name": "stdout",
     "output_type": "stream",
     "text": [
      "Pipeline execution ARN: arn:aws:sagemaker:us-east-1:282698011778:pipeline/SampleDataAnalysisPipeline/execution/wyjw74imxzw9\n"
     ]
    }
   ],
   "source": [
    "import sagemaker\n",
    "from sagemaker.workflow.pipeline import Pipeline\n",
    "from sagemaker.workflow.steps import ProcessingStep, TrainingStep\n",
    "from sagemaker.sklearn.processing import SKLearnProcessor\n",
    "from sagemaker.inputs import TrainingInput\n",
    "from sagemaker.estimator import Estimator\n",
    "from sagemaker.workflow.parameters import ParameterString, ParameterInteger\n",
    "\n",
    "# Initialize SageMaker session and role\n",
    "sagemaker_session = sagemaker.session.Session()\n",
    "role = sagemaker.get_execution_role()\n",
    "\n",
    "# Parameters\n",
    "input_data = ParameterString(name=\"InputDataUrl\", default_value=\"s3://mlops-testing-bucket-kulsin/sample-data.csv\")\n",
    "processing_instance_count = ParameterInteger(name=\"ProcessingInstanceCount\", default_value=1)\n",
    "training_instance_count = ParameterInteger(name=\"TrainingInstanceCount\", default_value=1)\n",
    "\n",
    "# Processing step: simple sklearn processor to clean data\n",
    "sklearn_processor = SKLearnProcessor(\n",
    "    framework_version=\"0.23-1\",\n",
    "    role=role,\n",
    "    instance_type=\"ml.t3.medium\",\n",
    "    instance_count=processing_instance_count\n",
    ")\n",
    "\n",
    "step_process = ProcessingStep(\n",
    "    name=\"SampleProcessing\",\n",
    "    processor=sklearn_processor,\n",
    "    inputs=[\n",
    "        sagemaker.processing.ProcessingInput(\n",
    "            source=input_data,\n",
    "            destination=\"/opt/ml/processing/input\"\n",
    "        )\n",
    "    ],\n",
    "    outputs=[\n",
    "        sagemaker.processing.ProcessingOutput(\n",
    "            output_name=\"train\",\n",
    "            source=\"/opt/ml/processing/output/train\"\n",
    "        ),\n",
    "        sagemaker.processing.ProcessingOutput(\n",
    "            output_name=\"validation\",\n",
    "            source=\"/opt/ml/processing/output/validation\"\n",
    "        )\n",
    "    ],\n",
    "    code=\"processing_script.py\"  # You need to create this script to clean/split data\n",
    ")\n",
    "\n",
    "# Training step: simple XGBoost training\n",
    "xgboost_estimator = Estimator(\n",
    "    image_uri=sagemaker.image_uris.retrieve(\"xgboost\", sagemaker_session.boto_region_name, version=\"1.2-1\"),\n",
    "    role=role,\n",
    "    instance_count=training_instance_count,\n",
    "    instance_type=\"ml.m5.xlarge\",\n",
    "    output_path=f\"s3://{sagemaker_session.default_bucket()}/output\"\n",
    ")\n",
    "\n",
    "step_train = TrainingStep(\n",
    "    name=\"SampleTraining\",\n",
    "    estimator=xgboost_estimator,\n",
    "    inputs={\n",
    "        \"train\": TrainingInput(\n",
    "            s3_data=step_process.properties.ProcessingOutputConfig.Outputs[\"train\"].S3Output.S3Uri,\n",
    "            content_type=\"csv\"\n",
    "        ),\n",
    "        \"validation\": TrainingInput(\n",
    "            s3_data=step_process.properties.ProcessingOutputConfig.Outputs[\"validation\"].S3Output.S3Uri,\n",
    "            content_type=\"csv\"\n",
    "        )\n",
    "    }\n",
    ")\n",
    "\n",
    "# Pipeline\n",
    "pipeline = Pipeline(\n",
    "    name=\"SampleDataAnalysisPipeline\",\n",
    "    parameters=[input_data, processing_instance_count, training_instance_count],\n",
    "    steps=[step_process, step_train],\n",
    "    sagemaker_session=sagemaker_session\n",
    ")\n",
    "\n",
    "# Create or update pipeline\n",
    "pipeline.upsert(role_arn=role)\n",
    "\n",
    "# (Optional) Trigger execution\n",
    "execution = pipeline.start(parameters={\"InputDataUrl\": \"s3://mlops-testing-bucket-kulsin/sample-data.csv\"})\n",
    "print(f\"Pipeline execution ARN: {execution.arn}\")\n"
   ]
  },
  {
   "cell_type": "code",
   "execution_count": null,
   "id": "37e9440d-9c85-4fae-93f0-7c8d59248575",
   "metadata": {},
   "outputs": [],
   "source": []
  }
 ],
 "metadata": {
  "kernelspec": {
   "display_name": "Python 3 (ipykernel)",
   "language": "python",
   "name": "python3"
  },
  "language_info": {
   "codemirror_mode": {
    "name": "ipython",
    "version": 3
   },
   "file_extension": ".py",
   "mimetype": "text/x-python",
   "name": "python",
   "nbconvert_exporter": "python",
   "pygments_lexer": "ipython3",
   "version": "3.12.9"
  }
 },
 "nbformat": 4,
 "nbformat_minor": 5
}
